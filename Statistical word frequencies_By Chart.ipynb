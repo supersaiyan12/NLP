{
 "cells": [
  {
   "cell_type": "code",
   "execution_count": 1,
   "metadata": {
    "collapsed": true
   },
   "outputs": [],
   "source": [
    "import nltk\n",
    "import matplotlib.pyplot as plt                    # importing libr\n",
    "from nltk.corpus import stopwords\n",
    "%matplotlib inline"
   ]
  },
  {
   "cell_type": "code",
   "execution_count": 2,
   "metadata": {
    "collapsed": false
   },
   "outputs": [
    {
     "data": {
      "text/plain": [
       "'The contamination or spoliation of the natural environment is known as pollution. It disturbs the natural process of the environment. Environmental pollution also causes harm to our environment by disturbing the natural balance. There are different types of environmental pollution such as air pollution, water pollution, land pollution, noise pollution etc.There are different causes of environmental pollution. Among them, waste materials of different industries, ejaculation of poisonous gases, deforestation, smoke emitted by vehicles or factories are the major factors that cause environmental pollution. In modern world environmental pollution has become a serious issue for the whole world. Due to environmental pollution, the temperature of the earth is increasing day by day. The air of the earth is no longer remaining fresh and sweet. People are suffering from many diseases in every corner of the world. Again in the metropolitan cities increasing numbers of vehicles not only causes air pollution but also disturbs our ears by causing noise pollution. In this century everyone is racing for industrialization or development. But this type of blind races may destroy the greenery in our environment.On the other hand water pollution is another type of environmental pollution. In our country in most of the areas river water is the only source of drinking water. But almost every river in India is in the grip of pollution due to the negligence of people. Poisonous waste materials from industries are thrown in the rivers and as a result of that, the river water gets polluted. People also pollute river water in the name of traditional beliefs. For example, people still believe that the ashes (Asthi) after burial ceremonies should be thrown in the river, the hair needs to be thrown in the river after Mundan etc. Water pollution gives birth to different water born disease.Environmental pollution needs to be stopped to secure the earth for our successors. We should keep our planet healthy to keep ourselves fit and healthy.'"
      ]
     },
     "execution_count": 2,
     "metadata": {},
     "output_type": "execute_result"
    }
   ],
   "source": [
    "text = \"The contamination or spoliation of the natural environment is known as pollution. It disturbs the natural process of the environment. Environmental pollution also causes harm to our environment by disturbing the natural balance. There are different types of environmental pollution such as air pollution, water pollution, land pollution, noise pollution etc.There are different causes of environmental pollution. Among them, waste materials of different industries, ejaculation of poisonous gases, deforestation, smoke emitted by vehicles or factories are the major factors that cause environmental pollution. In modern world environmental pollution has become a serious issue for the whole world. Due to environmental pollution, the temperature of the earth is increasing day by day. The air of the earth is no longer remaining fresh and sweet. People are suffering from many diseases in every corner of the world. Again in the metropolitan cities increasing numbers of vehicles not only causes air pollution but also disturbs our ears by causing noise pollution. In this century everyone is racing for industrialization or development. But this type of blind races may destroy the greenery in our environment.On the other hand water pollution is another type of environmental pollution. In our country in most of the areas river water is the only source of drinking water. But almost every river in India is in the grip of pollution due to the negligence of people. Poisonous waste materials from industries are thrown in the rivers and as a result of that, the river water gets polluted. People also pollute river water in the name of traditional beliefs. For example, people still believe that the ashes (Asthi) after burial ceremonies should be thrown in the river, the hair needs to be thrown in the river after Mundan etc. Water pollution gives birth to different water born disease.Environmental pollution needs to be stopped to secure the earth for our successors. We should keep our planet healthy to keep ourselves fit and healthy.\"\n",
    "text          # Row txt"
   ]
  },
  {
   "cell_type": "code",
   "execution_count": 3,
   "metadata": {
    "collapsed": true
   },
   "outputs": [],
   "source": [
    "split_T = text.split() #  splitted into words "
   ]
  },
  {
   "cell_type": "code",
   "execution_count": 4,
   "metadata": {
    "collapsed": true
   },
   "outputs": [],
   "source": [
    "split_T1 = []        # Creating blank list to pass on the words"
   ]
  },
  {
   "cell_type": "code",
   "execution_count": 6,
   "metadata": {
    "collapsed": true
   },
   "outputs": [],
   "source": [
    "stop_wo = list(stopwords.words('english')) # importing stopwords to get rid of the extra words"
   ]
  },
  {
   "cell_type": "code",
   "execution_count": 7,
   "metadata": {
    "collapsed": false
   },
   "outputs": [],
   "source": [
    "for i in split_T:\n",
    "    if i not in stop_wo:     # appending those words which aren't useful\n",
    "        split_T1.append(i)"
   ]
  },
  {
   "cell_type": "code",
   "execution_count": 8,
   "metadata": {
    "collapsed": true
   },
   "outputs": [],
   "source": [
    "freq = nltk.FreqDist(split_T1) # plotting on the graph"
   ]
  },
  {
   "cell_type": "code",
   "execution_count": 10,
   "metadata": {
    "collapsed": false
   },
   "outputs": [
    {
     "data": {
      "image/png": "[encoded data removed]",
      "text/plain": [
       "<matplotlib.figure.Figure at 0x11cf2df0>"
      ]
     },
     "metadata": {},
     "output_type": "display_data"
    }
   ],
   "source": [
    "freq.plot(8, cumulative=False,c='r')"
   ]
  },
  {
   "cell_type": "code",
   "execution_count": null,
   "metadata": {
    "collapsed": true
   },
   "outputs": [],
   "source": []
  },
  {
   "cell_type": "code",
   "execution_count": null,
   "metadata": {
    "collapsed": true
   },
   "outputs": [],
   "source": []
  },
  {
   "cell_type": "code",
   "execution_count": null,
   "metadata": {
    "collapsed": true
   },
   "outputs": [],
   "source": []
  }
 ],
 "metadata": {
  "kernelspec": {
   "display_name": "Python [Root]",
   "language": "python",
   "name": "Python [Root]"
  },
  "language_info": {
   "codemirror_mode": {
    "name": "ipython",
    "version": 2
   },
   "file_extension": ".py",
   "mimetype": "text/x-python",
   "name": "python",
   "nbconvert_exporter": "python",
   "pygments_lexer": "ipython2",
   "version": "2.7.12"
  }
 },
 "nbformat": 4,
 "nbformat_minor": 2
}
