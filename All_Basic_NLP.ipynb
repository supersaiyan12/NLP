{
 "cells": [
  {
   "cell_type": "markdown",
   "metadata": {},
   "source": [
    "# Introductory Line to Natural Language Processing"
   ]
  },
  {
   "cell_type": "markdown",
   "metadata": {},
   "source": [
    "- According to industry estimates, only 21% of the available data is present in structured form. Data is being generated as we speak, as we tweet, as we send messages on Whatsapp and in various other activities. Majority of this data exists in the textual form, which is highly unstructured in nature.\n",
    "\n",
    "\n",
    "- Few notorious examples include – tweets / posts on social media, user to user chat conversations, **news, blogs and articles**, product or **services reviews** and patient records in the **Healthcare sector**.\n",
    "\n",
    "\n",
    "- Despite having high dimension data, the information present in it is not directly accessible unless it is processed (read and understood) manually or analyzed by an automated system.\n",
    "\n",
    "\n",
    "- In order to produce significant and actionable insights from text data, it is important to get acquainted with the techniques and principles of Natural Language Processing (NLP).\n",
    "\n",
    "## List of things can NLP Do :-)\n",
    "\n",
    "#### 1. Introduction to NLP\n",
    "\n",
    "#### 2. Text Preprocessing\n",
    "\n",
    "- [**Noise Removal**](#noise_removal): A general approach for noise removal is to prepare a dictionary of noisy entities to eliminate them from text\n",
    "- [**Lexicon Normalization**](#lexicon_normalization): Another type of textual noise is about the multiple representations exhibited by single word\n",
    "    - [Lemmatization](#lemmatization): Lemmatization is an organized & step by step procedure of obtaining the root form of the word\n",
    "    - [Stemming](#stemming): Stemming is a rudimentary rule-based process of stripping the suffixes (“ing”, “ly”, “es”, “s” etc) - From a word\n",
    "- [**Object Standardization**](#object_standardization) : Replace social media slangs from a text\n",
    "\n",
    "#### 2.1 **from Speech**\n",
    "- [**Speech to text**](#object_standardization) : Convert Speech or voice data into a text format\n",
    "\n",
    "\n",
    "   \n",
    "#### 3. Text to Features (Feature Engineering on text data)\n",
    "- [**Syntactical Parsing**](#Syntactical Parsing): This involves the analysis of words for grammar and their arrangement in a manner that shows the relationships among the words\n",
    "    - [Dependency Grammar](#Dependency Grammar): Dependency grammar is a class of syntactic text analysis that deals with (labeled) asymmetrical binary relations between two lexical items (words)\n",
    "    - [Part of Speech Tagging](#Part of Speech Tagging): Apart from the grammar relations, every word in a sentence is also associated with a part of speech (pos) tag\n",
    "- [**Entity Parsing**] (#Entity Parsing): Entity Detection algorithms are generally ensemble models of rule based parsing, dictionary lookups, pos tagging and dependency parsing\n",
    "    - [Named Entity Recognition](#Named Entity Recognition): The process of detecting the named entities such as person names, location names, company names etc\n",
    "    - [Topic Modelling](#Topic Modelling): a process of automatically identifying the topics present in a text corpus\n",
    "    - [N-Grams](#N-Grams): A combination of N words together are called N-Grams. N grams (N > 1) are generally more informative as compared to words (Unigrams) as features.\n",
    "- [**Statistical features**] (#Statistical features): \n",
    "    - [TF – IDF](#TF – IDF): TF-IDF is a weighted model. It aims to convert the text documents into vector models on the basis of occurrence of words in the documents without taking considering the exact ordering.\n",
    "    - [Frequency / Density Features](#Frequency / Density Features): Some of the features are: _Word Count, Sentence Count, Punctuation Counts and Industry specific word counts_.\n",
    "    - [Readability Features](#Readability Features): Other types of measures include __readability measures__ such as _syllable counts, smog index and flesch reading ease_\n",
    "\n",
    "    \n",
    "#### 4. Important tasks of NLP\n",
    "- [**Text Classification**](#Text Classification): Email Spam Identification, topic classification of news, sentiment classification and organization of web pages by search engines\n",
    "- [**Text Matching**](#Text Matching / Similarity): One of the important areas of NLP is the matching of text objects to find similarities.\n",
    "    - [Levenshtein Distance](#Levenshtein Distance): the minimum number of edits needed to transform one string into the other\n",
    "    - [Phonetic Matching](#Phonetic Matching): takes a keyword as input (person’s name, location name etc) and produces a character string that identifies a set of words that are (roughly) phonetically similar\n",
    "    - [Flexible String Matching](#Flexible String Matching): A complete text matching system includes different algorithms pipelined together to compute variety of text variations\n",
    "    - [Cosine Similarity](#Cosine Similarity): When the text is represented as vector notation, a general cosine similarity can also be applied in order to measure vectorized similarity\n",
    "- [**Coreference Resolution**](#Coreference Resolution): a process of finding relational links among the words (or phrases) within the sentences"
   ]
  },
  {
   "cell_type": "markdown",
   "metadata": {},
   "source": [
    "### 1. Introduction to Natural Language Processing\n",
    "\n",
    "NLP is a branch of data science that consists of systematic processes for analyzing, understanding, and deriving information from the text data in a smart and efficient manner. By utilizing NLP and its components, one can organize the massive chunks of text data, perform numerous automated tasks and solve a wide range of problems such as – automatic summarization, machine translation, named entity recognition, relationship extraction, sentiment analysis, speech recognition, and topic segmentation etc.\n",
    "\n",
    "Few terms that are used in the article:\n",
    "\n",
    "   - Tokenization – process of converting a text into tokens\n",
    "   - Tokens – words or entities present in the text\n",
    "   - Text object – a sentence or a phrase or a word or an article\n"
   ]
  },
  {
   "cell_type": "code",
   "execution_count": 65,
   "metadata": {},
   "outputs": [],
   "source": [
    "import nltk "
   ]
  },
  {
   "cell_type": "markdown",
   "metadata": {},
   "source": [
    "## 2. Text Preprocessing\n",
    "Since, text is the most unstructured form of all the available data, various types of noise are present in it and the data is not readily analyzable without any pre-processing. The entire process of cleaning and standardization of text, making it noise-free and ready for analysis is known as text preprocessing.\n",
    "\n",
    "It is predominantly comprised of three steps:\n",
    "\n",
    "   - **Noise Removal**          - ('a','an','I','to',etc)\n",
    "   - **Lexicon Normalization**  - (Suffix or Prefix that are addition to the root words)\n",
    "   - **Object Standardization** - (Words that aren't even exist in dictionary but that are there in data - e.g(awsm-awesome)\n",
    "   \n",
    "The following image shows the architecture of text preprocessing pipeline.\n"
   ]
  },
  {
   "cell_type": "markdown",
   "metadata": {},
   "source": [
    "<a id='noise_removal'></a>\n",
    "## 2.1 Noise Removal\n",
    "\n",
    "Any piece of text which is not relevant to the context of the data and the end-output can be specified as the noise.\n",
    "\n",
    "For example – language stopwords (commonly used words of a language – is, am, the, of, in etc), URLs or links, social media entities (mentions, hashtags), punctuations and industry specific words. This step deals with removal of all types of noisy entities present in the text.\n",
    "\n",
    "A general approach for noise removal is to prepare a dictionary of noisy entities, and iterate the text object by tokens (or by words), eliminating those tokens which are present in the noise dictionary.\n",
    "\n",
    "Following is the python code for the same purpose."
   ]
  },
  {
   "cell_type": "code",
   "execution_count": 66,
   "metadata": {},
   "outputs": [
    {
     "data": {
      "text/plain": [
       "'sample text'"
      ]
     },
     "execution_count": 66,
     "metadata": {},
     "output_type": "execute_result"
    }
   ],
   "source": [
    "# Remove noisy words from a text\n",
    "noise_list = ['is','a','this','...']\n",
    "\n",
    "def _remove_noise(input_text):\n",
    "    words = input_text.split()\n",
    "    noise_free_words = [word for word in words if word not in noise_list]\n",
    "    noise_free_text = ' '.join(noise_free_words)\n",
    "    return noise_free_text\n",
    "\n",
    "_remove_noise(\"... this is a sample text ...\")"
   ]
  },
  {
   "cell_type": "code",
   "execution_count": 97,
   "metadata": {},
   "outputs": [
    {
     "data": {
      "text/plain": [
       "'remove this  from this sentence'"
      ]
     },
     "execution_count": 97,
     "metadata": {},
     "output_type": "execute_result"
    }
   ],
   "source": [
    "# Remove a regex pattern\n",
    "\n",
    "import re\n",
    "\n",
    "def _remove_regex(input_text, regex_pattern):\n",
    "    urls = re.finditer(regex_pattern, input_text)\n",
    "    \n",
    "    for i in urls:\n",
    "        input_text = re.sub(i.group().strip(),'',input_text)\n",
    "    return input_text\n",
    "\n",
    "regex_pattern = '#[\\w]*'\n",
    "\n",
    "_remove_regex('remove this #hashtag from this sentence', regex_pattern)"
   ]
  },
  {
   "cell_type": "markdown",
   "metadata": {},
   "source": [
    "<a id='lexicon_normalization'></a>\n",
    "## 2.2 Lexicon Normalization\n",
    "\n",
    "Another type of textual noise is about the multiple representations exhibited by single word.\n",
    "\n",
    "For example – “play”, “player”, “played”, “plays” and “playing” are the different variations of the word – “play”, Though they mean different but contextually all are similar. The step converts all the disparities of a word into their normalized form (also known as lemma). Normalization is a pivotal step for feature engineering with text as it converts the high dimensional features (N different features) to the low dimensional space (1 feature), which is an ideal ask for any ML model.\n",
    "\n",
    "The most common lexicon normalization practices are :\n",
    "<a id='lemmatization'></a>\n",
    "\n",
    "   - __Lemmatization__: Lemmatization is an organized & step by step procedure of obtaining the root form of the word, it makes use of vocabulary (dictionary importance of words) and morphological analysis (word structure and grammar relations).\n",
    "<a id='stemming'></a>\n",
    "\n",
    "   - __Stemming__:  Stemming, on the other hand, is a rudimentary rule-based process of stripping the suffixes (“ing”, “ly”, “es”, “s” etc) from a word.\n",
    "   \n",
    "Below is the sample code that performs lemmatization and stemming using python’s popular library – NLTK."
   ]
  },
  {
   "cell_type": "code",
   "execution_count": 68,
   "metadata": {},
   "outputs": [],
   "source": [
    "from nltk.stem.porter import PorterStemmer\n",
    "\n",
    "stem = PorterStemmer()\n",
    "\n",
    "from nltk.stem.wordnet import WordNetLemmatizer\n",
    "\n",
    "lem = WordNetLemmatizer()"
   ]
  },
  {
   "cell_type": "code",
   "execution_count": 69,
   "metadata": {},
   "outputs": [
    {
     "data": {
      "text/plain": [
       "'multiply'"
      ]
     },
     "execution_count": 69,
     "metadata": {},
     "output_type": "execute_result"
    }
   ],
   "source": [
    "word = 'multiplying'\n",
    "lem.lemmatize(word,'v')"
   ]
  },
  {
   "cell_type": "code",
   "execution_count": 70,
   "metadata": {},
   "outputs": [
    {
     "data": {
      "text/plain": [
       "'multipli'"
      ]
     },
     "execution_count": 70,
     "metadata": {},
     "output_type": "execute_result"
    }
   ],
   "source": [
    "stem.stem(word)"
   ]
  },
  {
   "cell_type": "markdown",
   "metadata": {},
   "source": [
    "<a id='object_standardization'></a>\n",
    "## 2.3 Object Standardization\n",
    "\n",
    "Text data often contains words or phrases which are not present in any standard lexical dictionaries. These pieces are not recognized by search engines and models.\n",
    "\n",
    "Some of the examples are – acronyms, hashtags with attached words, and colloquial slangs. With the help of regular expressions and manually prepared data dictionaries, this type of noise can be fixed, the code below uses a dictionary lookup method to replace social media slangs from a text."
   ]
  },
  {
   "cell_type": "code",
   "execution_count": 71,
   "metadata": {},
   "outputs": [
    {
     "name": "stdout",
     "output_type": "stream",
     "text": [
      "['RT', 'this', 'is', 'a', 'retweeted', 'awsm', 'dm', 'by', 'Shivam', 'Bansal']\n"
     ]
    },
    {
     "data": {
      "text/plain": [
       "'Retweet this is a retweeted awesome direct message by Shivam Bansal'"
      ]
     },
     "execution_count": 71,
     "metadata": {},
     "output_type": "execute_result"
    }
   ],
   "source": [
    "lookup_dict = {'rt':'Retweet','dm':'direct message','awsm':'awesome','luv':'love'}\n",
    "\n",
    "def _lookup_words(input_text):\n",
    "    words = input_text.split()\n",
    "    print(words)\n",
    "    new_words = []\n",
    "    for word in words:\n",
    "        if word.lower() in lookup_dict:\n",
    "            word = lookup_dict[word.lower()]\n",
    "        new_words.append(word) \n",
    "        new_text = \" \".join(new_words)\n",
    "    return new_text\n",
    "    \n",
    "_lookup_words(\"RT this is a retweeted awsm dm by Shivam Bansal\")"
   ]
  },
  {
   "cell_type": "markdown",
   "metadata": {},
   "source": [
    "<a id='Coreference Resolution'></a>\n",
    "## 2.4 Speech to text\n",
    "\n",
    "Sometimes We'll come across the data Source as Voice , where we need to process them into text first and then start the work on\n"
   ]
  },
  {
   "cell_type": "code",
   "execution_count": 1,
   "metadata": {},
   "outputs": [],
   "source": [
    "import speech_recognition as sr"
   ]
  },
  {
   "cell_type": "code",
   "execution_count": 3,
   "metadata": {},
   "outputs": [
    {
     "name": "stdout",
     "output_type": "stream",
     "text": [
      "say something\n",
      "done\n",
      "hi this is a small recording for the first time recording to text audio program part 1 thank you\n"
     ]
    }
   ],
   "source": [
    "r = sr.Recognizer()\n",
    "audio = 'audio.wav'\n",
    "with sr.AudioFile(audio) as source:\n",
    "    print(\"say something\" )\n",
    "    audio = r.record(source)\n",
    "    print(\"done\")\n",
    "try:\n",
    "    text = r.recognize_google(audio)\n",
    "    print(text)\n",
    "except Exception as e:\n",
    "    print(e)"
   ]
  },
  {
   "cell_type": "markdown",
   "metadata": {},
   "source": [
    "\n",
    "## 3.Text to Features (Feature Engineering on text data)\n",
    "\n",
    "To analyse a preprocessed data, it needs to be converted into features. Depending upon the usage, text features can be constructed using assorted techniques – Syntactical Parsing, Entities / N-grams / word-based features, Statistical features, and word embeddings. Read on to understand these techniques in detail.\n",
    "<a id='Syntactical Parsing'></a>\n"
   ]
  },
  {
   "cell_type": "markdown",
   "metadata": {},
   "source": [
    "\n",
    "<a id='Part of Speech Tagging'></a>\n",
    "__Part of speech tagging__ – Apart from the grammar relations, every word in a sentence is also associated with a part of speech (pos) tag (nouns, verbs, adjectives, adverbs etc). The pos tags defines the usage and function of a word in the sentence. H ere is a list of all possible pos-tags defined by Pennsylvania university. Following code using NLTK performs pos tagging annotation on input text. (it provides several implementations, the default one is perceptron tagger)"
   ]
  },
  {
   "cell_type": "code",
   "execution_count": 99,
   "metadata": {},
   "outputs": [
    {
     "name": "stdout",
     "output_type": "stream",
     "text": [
      "[('I', 'PRP'), ('am', 'VBP'), ('Working', 'VBG'), ('on', 'IN'), ('Natural', 'NNP'), ('Language', 'NNP'), ('Processing', 'NNP'), ('for', 'IN'), ('last', 'JJ'), ('few', 'JJ'), ('Month', 'NNP')]\n"
     ]
    }
   ],
   "source": [
    "from nltk import word_tokenize, pos_tag\n",
    "\n",
    "text = 'I am Working on Natural Language Processing for last few Month'\n",
    "tokens = word_tokenize(text)\n",
    "print(pos_tag(tokens))"
   ]
  },
  {
   "cell_type": "markdown",
   "metadata": {},
   "source": [
    "Part of Speech tagging is used for many important purposes in NLP:\n",
    "\n",
    "__A.Word sense disambiguation:__ Some language words have multiple meanings according to their usage. For example, in the two sentences below:\n",
    "\n",
    "_I. “Please book my flight for Delhi”_\n",
    "\n",
    "_II. “I am going to read this book in the flight”_\n",
    "\n",
    "“Book” is used with different context, however the part of speech tag for both of the cases are different. In sentence I, the word “book” is used as verb, while in II it is used as noun.**Just for the Reference** ([Lesk Algorithm](https://en.wikipedia.org/wiki/Lesk_algorithm) is also us ed for similar purposes)\n",
    "\n",
    "__B.Improving word-based features:__ A learning model could learn different contexts of a word when used word as the features, however if the part of speech tag is linked with them, the context is preserved, thus making strong features. For example:\n",
    "\n",
    "_Sentence -“book my flight, I will read this book”_\n",
    "\n",
    "_Tokens – (“book”, 2), (“my”, 1), (“flight”, 1), (“I”, 1), (“will”, 1), (“read”, 1), (“this”, 1)_\n",
    "\n",
    "_Tokens with POS _– (“book_VB”, 1), (“my_PRP”, 1), (“flight_NN”, 1), (“I_PRP”, 1), (“will_MD”, 1), (“read_VB”, 1), (“this_DT”, 1), (“book_NN”, 1)\n",
    "\n",
    "__C. Normalization and Lemmatization:__ POS tags are the basis of lemmatization process for converting a word to its base form (lemma).\n",
    "\n",
    "__D.Efficient stopword removal__ : POS tags are also useful in efficient removal of stopwords.\n",
    "\n",
    "For example, there are some tags which always define the low frequency / less important words of a language. For example: (__IN__ – “within”, “upon”, “except”), (**CD** – “one”,”two”, “hundred”), (**MD** – “may”, “must”, etc)"
   ]
  },
  {
   "cell_type": "markdown",
   "metadata": {
    "collapsed": true
   },
   "source": [
    "<a id='Entity Parsing'></a>\n",
    "\n",
    "## 3.2 Entity Extraction (Entities as features)\n",
    "\n",
    "Entities are defined as the most important chunks of a sentence – noun phrases, verb phrases or both. Entity Detection algorithms are generally ensemble models of rule based parsing, dictionary lookups, pos tagging and dependency parsing. The applicability of entity detection can be seen in the automated chat bots, content analyzers and consumer insights.\n",
    "\n",
    "\n",
    "Topic Modelling & Named Entity Recognition are the two key entity detection methods in NLP.\n",
    "\n",
    "<a id='Named Entity Recognition'></a>\n",
    "__A. Named Entity Recognition (NER)__\n",
    "The process of detecting the named entities such as person names, location names, company names etc from the text is called as __NER__. For example :\n",
    "\n",
    "_Sentence – Sergey Brin, the manager of Google Inc. is walking in the streets of New York._\n",
    "\n",
    "_Named Entities –  ( “person” : “Sergey Brin” ), (“org” : “Google Inc.”), (“location” : “New York”)_\n",
    "\n",
    "A typical NER model consists of <u>three</u> blocks:\n",
    "\n",
    "__Noun phrase identification:__ This step deals with extracting all the noun phrases from a text using dependency parsing and part of speech tagging.\n",
    "\n",
    "__Phrase classification:__ This is the classification step in which all the extracted noun phrases are classified into respective categories (locations, names etc). Google Maps API provides a good path to disambiguate locations, Then, the open databases from dbpedia, wikipedia can be used to identify person names or company names. Apart from this, one can curate the lookup tables and dictionaries by combining information from different sources.\n",
    "\n",
    "__Entity disambiguation__: Sometimes it is possible that entities are misclassified, hence creating a validation layer on top of the results is useful. Use of knowledge graphs can be exploited for this purposes. The popular knowledge graphs are – Google Knowledge Graph, IBM Watson and Wikipedia. \n",
    "\n",
    " \n",
    "<a id='Topic Modeling'></a>\n",
    "\n",
    "## B. Topic Modeling (UnSupervised Learning)\n",
    "\n",
    "Topic modeling is a process of automatically identifying the topics present in a text corpus, it derives the hidden patterns among the words in the corpus in an unsupervised manner. Topics are defined as “a repeating pattern of co-occurring terms in a corpus”. A good topic model results in – “health”, “doctor”, “patient”, “hospital” for a topic – Healthcare, and “farm”, “crops”, “wheat” for a topic – “Farming”.\n",
    "\n",
    "__Latent Dirichlet Allocation (LDA)__ is the most popular topic modelling technique, Following is the code to implement topic modeling using LDA in python."
   ]
  },
  {
   "cell_type": "code",
   "execution_count": 74,
   "metadata": {},
   "outputs": [
    {
     "name": "stdout",
     "output_type": "stream",
     "text": [
      "['NullHandler', '__builtins__', '__cached__', '__doc__', '__file__', '__loader__', '__name__', '__package__', '__path__', '__spec__', '__version__', '_matutils', 'corpora', 'interfaces', 'logger', 'logging', 'matutils', 'models', 'parsing', 'scripts', 'similarities', 'summarization', 'topic_coherence', 'utils']\n",
      "Dictionary(34 unique tokens: ['My', 'Sugar', 'bad', 'but', 'consume.']...)\n",
      "father.\n",
      "0\n",
      "Number of words in dictionary: 34\n",
      "0 My\n",
      "1 Sugar\n",
      "2 bad\n",
      "3 but\n",
      "4 consume.\n",
      "5 father.\n",
      "6 have\n",
      "7 is\n",
      "8 likes\n",
      "9 my\n",
      "10 not\n",
      "11 sister\n",
      "12 sugar,\n",
      "13 to\n",
      "14 a\n",
      "15 around\n",
      "16 dance\n",
      "17 driving\n",
      "18 father\n",
      "19 lot\n",
      "20 of\n",
      "21 practice.\n",
      "22 spends\n",
      "23 time\n",
      "24 Doctors\n",
      "25 and\n",
      "26 blood\n",
      "27 cause\n",
      "28 increased\n",
      "29 may\n",
      "30 pressure.\n",
      "31 stress\n",
      "32 suggest\n",
      "33 that\n"
     ]
    }
   ],
   "source": [
    "doc1 = \"Sugar is bad to consume. My sister likes to have sugar, but not my father.\" \n",
    "doc2 = \"My father spends a lot of time driving my sister around to dance practice.\"\n",
    "doc3 = \"Doctors suggest that driving may cause increased stress and blood pressure.\"\n",
    "\n",
    "doc_complete = [doc1,doc2,doc3]\n",
    "doc_clean = [doc.split() for doc in doc_complete]\n",
    "import gensim \n",
    "print(dir(gensim))\n",
    "#from gensim.corpora import Dictionary\n",
    "from gensim import corpora\n",
    "# Creating the term dictionary of our corpus, where every unique term is assigned an index.  \n",
    "dictionary = gensim.corpora.Dictionary(doc_clean)\n",
    "\n",
    "print(dictionary)\n",
    "#dictionary = gensim.corpora.Dictionary(gen_docs)\n",
    "print(dictionary[5])\n",
    "print(dictionary.token2id['My'])\n",
    "print(\"Number of words in dictionary:\",len(dictionary))\n",
    "for i in range(len(dictionary)):\n",
    "    print(i, dictionary[i])"
   ]
  },
  {
   "cell_type": "markdown",
   "metadata": {},
   "source": [
    "<a id='Statistical Features'></a>\n",
    "## 3.3 Statistical Features\n",
    "\n",
    "Text data can also be quantified directly into numbers using several techniques described in this section:\n",
    "\n",
    "<a id='TF – IDF'></a>\n",
    "__A.  Term Frequency – Inverse Document Frequency (TF – IDF)__\n",
    "\n",
    "\n",
    "TF-IDF is a weighted model commonly used for information retrieval problems. It aims to convert the text documents into vector models on the basis of occurrence of words in the documents without taking considering the exact ordering. For Example – let say there is a dataset of N text documents, In any document “D”, TF and IDF will be defined as –\n",
    "\n",
    "Term Frequency (TF) – TF for a term “t” is defined as the count of a term “t” in a document “D”\n",
    "\n",
    "Inverse Document Frequency (IDF) – IDF for a term is defined as logarithm of ratio of total documents available in the corpus and number of documents containing the term T.\n",
    "\n",
    "TF . IDF – TF IDF formula gives the relative importance of a term in a corpus (list of documents), given by the following formula below. Following is the code using python’s scikit learn package to convert a text into tf idf vectors:\n",
    "\n",
    "**In Short :-**\n",
    "\n",
    "**Term Frequency:** This summarizes how often a given word appears within a document.<br>\n",
    "**Inverse Document Frequency:** This downscales words that appear a lot across documents\n",
    "\n",
    "\n",
    "<img src='./Images/image-4.png'>"
   ]
  },
  {
   "cell_type": "code",
   "execution_count": 75,
   "metadata": {},
   "outputs": [],
   "source": [
    "import math\n",
    "from textblob import TextBlob as tb\n",
    "\n",
    "def tf(word, blob):              # TF is Term frequency (\"This summarizes how often a given word appears within a document.\")\n",
    "    return blob.words.count(word) / len(blob.words)\n",
    "\n",
    "def n_containing(word, bloblist):\n",
    "    return sum(1 for blob in bloblist if word in blob.words)\n",
    "\n",
    "def idf(word, bloblist):           # IDF is Term frequency (\"This summarizes how often a given word appears within a document.\")\n",
    "    return math.log(len(bloblist) / (1 + n_containing(word, bloblist)))\n",
    "\n",
    "def tfidf(word, blob, bloblist):\n",
    "    return tf(word, blob) * idf(word, bloblist)"
   ]
  },
  {
   "cell_type": "code",
   "execution_count": 76,
   "metadata": {},
   "outputs": [],
   "source": [
    "document1 = tb(\"\"\"Python is a 2000 made-for-TV horror movie directed by Richard\n",
    "Clabaugh. The film features several cult favorite actors, including William\n",
    "Zabka of The Karate Kid fame, Wil Wheaton, Casper Van Dien, Jenny McCarthy,\n",
    "Keith Coogan, Robert Englund (best known for his role as Freddy Krueger in the\n",
    "A Nightmare on Elm Street series of films), Dana Barron, David Bowe, and Sean\n",
    "Whalen. The film concerns a genetically engineered snake, a python, that\n",
    "escapes and unleashes itself on a small town. It includes the classic final\n",
    "girl scenario evident in films like Friday the 13th. It was filmed in Los Angeles,\n",
    " California and Malibu, California. Python was followed by two sequels: Python\n",
    " II (2002) and Boa vs. Python (2004), both also made-for-TV films.\"\"\")\n",
    "\n",
    "document2 = tb(\"\"\"Python, from the Greek word (πύθων/πύθωνας), is a genus of\n",
    "nonvenomous pythons[2] found in Africa and Asia. Currently, 7 species are\n",
    "recognised.[2] A member of this genus, P. reticulatus, is among the longest\n",
    "snakes known.\"\"\")\n",
    "\n",
    "document3 = tb(\"\"\"The Colt Python is a .357 Magnum caliber revolver formerly\n",
    "manufactured by Colt's Manufacturing Company of Hartford, Connecticut.\n",
    "It is sometimes referred to as a \"Combat Magnum\".[1] It was first introduced\n",
    "in 1955, the same year as Smith &amp; Wesson's M29 .44 Magnum. The now discontinued\n",
    "Colt Python targeted the premium revolver market segment. Some firearm\n",
    "collectors and writers such as Jeff Cooper, Ian V. Hogg, Chuck Hawks, Leroy\n",
    "Thompson, Renee Smeets and Martin Dougherty have described the Python as the\n",
    "finest production revolver ever made.\"\"\")"
   ]
  },
  {
   "cell_type": "code",
   "execution_count": 77,
   "metadata": {},
   "outputs": [
    {
     "name": "stdout",
     "output_type": "stream",
     "text": [
      "Top words in document 1\n",
      "\tWord: python, TF-IDF: 0.01662\n",
      "\tWord: films, TF-IDF: 0.00997\n",
      "\tWord: made-for-TV, TF-IDF: 0.00665\n",
      "Top words in document 2\n",
      "\tWord: genus, TF-IDF: 0.02192\n",
      "\tWord: 2, TF-IDF: 0.02192\n",
      "\tWord: from, TF-IDF: 0.01096\n",
      "Top words in document 3\n",
      "\tWord: Colt, TF-IDF: 0.01367\n",
      "\tWord: Magnum, TF-IDF: 0.01367\n",
      "\tWord: revolver, TF-IDF: 0.01367\n"
     ]
    }
   ],
   "source": [
    "bloblist = [document1, document2, document3]\n",
    "for i, blob in enumerate(bloblist):\n",
    "    print(\"Top words in document {}\".format(i + 1))\n",
    "    scores = {word: tfidf(word, blob, bloblist) for word in blob.words}\n",
    "    sorted_words = sorted(scores.items(), key=lambda x: x[1], reverse=True)\n",
    "    for word, score in sorted_words[:3]:\n",
    "        print(\"\\tWord: {}, TF-IDF: {}\".format(word, round(score, 5)))"
   ]
  },
  {
   "cell_type": "markdown",
   "metadata": {},
   "source": [
    "## Statistical word frequencies (With Matplotlib)"
   ]
  },
  {
   "cell_type": "code",
   "execution_count": 78,
   "metadata": {},
   "outputs": [],
   "source": [
    "import nltk\n",
    "from nltk.corpus import stopwords\n",
    "%matplotlib inline"
   ]
  },
  {
   "cell_type": "code",
   "execution_count": 79,
   "metadata": {},
   "outputs": [
    {
     "data": {
      "text/plain": [
       "'The contamination or spoliation of the natural environment is known as pollution. It disturbs the natural process of the environment. Environmental pollution also causes harm to our environment by disturbing the natural balance. There are different types of environmental pollution such as air pollution, water pollution, land pollution, noise pollution etc.There are different causes of environmental pollution. Among them, waste materials of different industries, ejaculation of poisonous gases, deforestation, smoke emitted by vehicles or factories are the major factors that cause environmental pollution. In modern world environmental pollution has become a serious issue for the whole world. Due to environmental pollution, the temperature of the earth is increasing day by day. The air of the earth is no longer remaining fresh and sweet. People are suffering from many diseases in every corner of the world. Again in the metropolitan cities increasing numbers of vehicles not only causes air pollution but also disturbs our ears by causing noise pollution. In this century everyone is racing for industrialization or development. But this type of blind races may destroy the greenery in our environment.On the other hand water pollution is another type of environmental pollution. In our country in most of the areas river water is the only source of drinking water. But almost every river in India is in the grip of pollution due to the negligence of people. Poisonous waste materials from industries are thrown in the rivers and as a result of that, the river water gets polluted. People also pollute river water in the name of traditional beliefs. For example, people still believe that the ashes (Asthi) after burial ceremonies should be thrown in the river, the hair needs to be thrown in the river after Mundan etc. Water pollution gives birth to different water born disease.Environmental pollution needs to be stopped to secure the earth for our successors. We should keep our planet healthy to keep ourselves fit and healthy.'"
      ]
     },
     "execution_count": 79,
     "metadata": {},
     "output_type": "execute_result"
    }
   ],
   "source": [
    "text = \"The contamination or spoliation of the natural environment is known as pollution. It disturbs the natural process of the environment. Environmental pollution also causes harm to our environment by disturbing the natural balance. There are different types of environmental pollution such as air pollution, water pollution, land pollution, noise pollution etc.There are different causes of environmental pollution. Among them, waste materials of different industries, ejaculation of poisonous gases, deforestation, smoke emitted by vehicles or factories are the major factors that cause environmental pollution. In modern world environmental pollution has become a serious issue for the whole world. Due to environmental pollution, the temperature of the earth is increasing day by day. The air of the earth is no longer remaining fresh and sweet. People are suffering from many diseases in every corner of the world. Again in the metropolitan cities increasing numbers of vehicles not only causes air pollution but also disturbs our ears by causing noise pollution. In this century everyone is racing for industrialization or development. But this type of blind races may destroy the greenery in our environment.On the other hand water pollution is another type of environmental pollution. In our country in most of the areas river water is the only source of drinking water. But almost every river in India is in the grip of pollution due to the negligence of people. Poisonous waste materials from industries are thrown in the rivers and as a result of that, the river water gets polluted. People also pollute river water in the name of traditional beliefs. For example, people still believe that the ashes (Asthi) after burial ceremonies should be thrown in the river, the hair needs to be thrown in the river after Mundan etc. Water pollution gives birth to different water born disease.Environmental pollution needs to be stopped to secure the earth for our successors. We should keep our planet healthy to keep ourselves fit and healthy.\"\n",
    "text          # Row txt"
   ]
  },
  {
   "cell_type": "code",
   "execution_count": 80,
   "metadata": {},
   "outputs": [],
   "source": [
    "split_T = text.split() #  splitted into words \n",
    "split_T1 = []        # Creating blank list to pass on the words"
   ]
  },
  {
   "cell_type": "code",
   "execution_count": 81,
   "metadata": {},
   "outputs": [],
   "source": [
    "stop_wo = list(stopwords.words('english'))"
   ]
  },
  {
   "cell_type": "code",
   "execution_count": 82,
   "metadata": {},
   "outputs": [],
   "source": [
    "stop_wo = list(stopwords.words('english')) # importing stopwords to get rid of the extra words"
   ]
  },
  {
   "cell_type": "code",
   "execution_count": 83,
   "metadata": {},
   "outputs": [],
   "source": [
    "for i in split_T:\n",
    "    if i not in stop_wo:     # appending those words which aren't useful\n",
    "        split_T1.append(i)"
   ]
  },
  {
   "cell_type": "code",
   "execution_count": 84,
   "metadata": {},
   "outputs": [],
   "source": [
    "freq = nltk.FreqDist(split_T1) # plotting on the graph"
   ]
  },
  {
   "cell_type": "code",
   "execution_count": 85,
   "metadata": {},
   "outputs": [
    {
     "data": {
      "image/png": "[encoded data removed]",
      "text/plain": [
       "<Figure size 432x288 with 1 Axes>"
      ]
     },
     "metadata": {},
     "output_type": "display_data"
    }
   ],
   "source": [
    "freq.plot(8, cumulative=False,c='r')"
   ]
  },
  {
   "cell_type": "markdown",
   "metadata": {},
   "source": [
    "\n",
    "<a id='Important tasks of NLP'></a>\n",
    "## 4. Important tasks of NLP\n",
    "\n",
    "This section talks about different use cases and problems in the field of natural language processing.\n",
    "\n",
    "<a id='Text Classification'></a>\n",
    "__4.1 Text Classification__\n",
    "\n",
    "Text classification is one of the classical problem of NLP. Notorious examples include – _Email Spam Identification, topic classification of news, sentiment classification and organization of web pages by search engines_.\n",
    "\n",
    "Text classification, in common words is defined as a technique to systematically classify a text object (document or sentence) in one of the fixed category. It is really helpful when the amount of data is too large, especially for organizing, information filtering, and storage purposes.\n",
    "\n",
    "A typical natural language classifier consists of two parts: (a) Training (b) Prediction as shown in image below. Firstly the text input is processes and features are created. The machine learning models then learn these features and is used for predicting against the new text.\n",
    "\n",
    "<img src='./Images/image-5.png'>\n",
    "\n",
    "Here is a code that uses naive bayes classifier using text blob library (built on top of nltk)."
   ]
  },
  {
   "cell_type": "code",
   "execution_count": 12,
   "metadata": {},
   "outputs": [
    {
     "name": "stdout",
     "output_type": "stream",
     "text": [
      "Class_A\n"
     ]
    }
   ],
   "source": [
    "from textblob.classifiers import NaiveBayesClassifier as NBC\n",
    "from textblob import TextBlob\n",
    "\n",
    "training_corpus = [\n",
    "                   ('I am exhausted of this work.', 'Class_B'),\n",
    "                   (\"I can't cooperate with this\", 'Class_B'),\n",
    "                   ('He is my badest enemy!', 'Class_B'),\n",
    "                   ('My management is poor.', 'Class_B'),\n",
    "                   ('I love this burger.', 'Class_A'),\n",
    "                   ('I hate baseball.', 'Class_B'),\n",
    "                   ('This is an brilliant place!', 'Class_A'),\n",
    "                   ('I feel very good about these dates.', 'Class_A'),\n",
    "                   ('This is my best work.', 'Class_A'),\n",
    "                   (\"What an awesome view\", 'Class_A'),\n",
    "                   (\"cricket is awesome\", 'Class_A'),\n",
    "                   ('I do not like this dish', 'Class_B')]\n",
    "test_corpus = [\n",
    "                (\"I am not feeling well today.\", 'Class_B'), \n",
    "                (\"I feel brilliant!\", 'Class_A'), \n",
    "                ('Gary is a friend of mine.', 'Class_A'), \n",
    "                (\"I can't believe I'm doing this.\", 'Class_B'), \n",
    "                ('The date was good.', 'Class_A'), \n",
    "    ('I do not enjoy my job', 'Class_B')]\n",
    "\n",
    "model = NBC(training_corpus) \n",
    "print(model.classify(\"cricket is a game.\"))"
   ]
  },
  {
   "cell_type": "code",
   "execution_count": 13,
   "metadata": {},
   "outputs": [],
   "source": [
    "ahmead = [('I am exhausted of this work.', 'Class_B'), \n",
    "           ('This is my best work.', 'Class_A')]"
   ]
  },
  {
   "cell_type": "code",
   "execution_count": 95,
   "metadata": {},
   "outputs": [
    {
     "name": "stdout",
     "output_type": "stream",
     "text": [
      "Class_A\n"
     ]
    }
   ],
   "source": [
    "print(model.classify(\"cricket is eleven players game\"))"
   ]
  },
  {
   "cell_type": "code",
   "execution_count": 15,
   "metadata": {},
   "outputs": [
    {
     "name": "stdout",
     "output_type": "stream",
     "text": [
      "83.33333333333334 %\n"
     ]
    }
   ],
   "source": [
    "print(model.accuracy(test_corpus) * 100,\"%\") "
   ]
  },
  {
   "cell_type": "markdown",
   "metadata": {},
   "source": [
    "<a id='Coreference Resolution'></a>\n",
    "## 4.3 Coreference Resolution\n",
    "\n",
    "Coreference Resolution is a process of finding relational links among the words (or phrases) within the sentences. Consider an example sentence: ” Donald went to John’s office to see the new table. He looked at it for an hour.“\n",
    "\n",
    "Humans can quickly figure out that “he” denotes Donald (and not John), and that “it” denotes the table (and not John’s office). Coreference Resolution is the component of NLP that does this job automatically. It is used in document summarization, question answering, and information extraction. Stanford CoreNLP provides a python wrapper for commercial purposes.\n",
    "\n",
    " \n",
    "<a id='Other'></a>\n",
    "## 4.4 Other NLP problems / tasks\n",
    "\n",
    "- Text Summarization – Given a text article or paragraph, summarize it automatically to produce most important and relevant sentences in order.\n",
    "\n",
    "- Machine Translation – Automatically translate text from one human language to another by taking care of grammar, semantics and information about the real world, etc.\n",
    "\n",
    "- Natural Language Generation and Understanding – Convert information from computer databases or semantic intents into readable human language is called language generation. Converting chunks of text into more logical structures that are easier for computer programs to manipulate is called language understanding.\n",
    "\n",
    "- Optical Character Recognition – Given an image representing printed text, determine the corresponding text.\n",
    "\n",
    "- Document to Information – This involves parsing of textual data present in documents (websites, files, pdfs and images) to analyzable and clean format.\n",
    " \n",
    "<a id='Important Libraries'></a>\n",
    "## 5. Important Libraries for NLP (python)\n",
    "\n",
    "- Scikit-learn: Machine learning in Python\n",
    "- Natural Language Toolkit (NLTK): The complete toolkit for all NLP techniques.\n",
    "- Pattern – A web mining module for the with tools for NLP and machine learning.\n",
    "- TextBlob – Easy to use nl p tools API, built on top of NLTK and Pattern.\n",
    "- spaCy – Industrial strength N LP with Python and Cython.\n",
    "- Gensim – Topic Modelling for Humans\n",
    "- Stanford Core NLP – NLP services and packages by Stanford NLP Group."
   ]
  }
 ],
 "metadata": {
  "kernelspec": {
   "display_name": "Python 3",
   "language": "python",
   "name": "python3"
  },
  "language_info": {
   "codemirror_mode": {
    "name": "ipython",
    "version": 3
   },
   "file_extension": ".py",
   "mimetype": "text/x-python",
   "name": "python",
   "nbconvert_exporter": "python",
   "pygments_lexer": "ipython3",
   "version": "3.6.5"
  }
 },
 "nbformat": 4,
 "nbformat_minor": 2
}
